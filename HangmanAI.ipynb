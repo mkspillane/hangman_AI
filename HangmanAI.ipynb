{
 "cells": [
  {
   "cell_type": "code",
   "execution_count": 12,
   "metadata": {
    "id": "TKdfCkR97bAF"
   },
   "outputs": [],
   "source": [
    "import sys\n",
    "import numpy as np\n",
    "import pandas as pd\n",
    "import matplotlib.pyplot as plt\n",
    "import tensorflow as tf\n",
    "from tensorflow import keras\n"
   ]
  },
  {
   "cell_type": "code",
   "execution_count": 2,
   "metadata": {
    "colab": {
     "base_uri": "https://localhost:8080/",
     "height": 51
    },
    "id": "OPa99aF78Ak7",
    "outputId": "2925b1f3-267d-415d-870f-e5820be168c9"
   },
   "outputs": [
    {
     "name": "stderr",
     "output_type": "stream",
     "text": [
      "[nltk_data] Downloading package brown to\n",
      "[nltk_data]     /Users/michaelspillane/nltk_data...\n",
      "[nltk_data]   Package brown is already up-to-date!\n"
     ]
    }
   ],
   "source": [
    "import nltk\n",
    "nltk.download('brown')\n",
    "from nltk.corpus import brown"
   ]
  },
  {
   "cell_type": "code",
   "execution_count": 7,
   "metadata": {
    "id": "_zyhB3Y29jpw"
   },
   "outputs": [],
   "source": [
    "corpus = (brown.words(categories='news') + brown.words(categories= 'fiction')+\n",
    "  brown.words(categories = 'romance') + brown.words(categories = 'reviews'))\n",
    "corpus = list(set(corpus))"
   ]
  },
  {
   "cell_type": "code",
   "execution_count": 8,
   "metadata": {
    "id": "PbZSWtfI-XkU"
   },
   "outputs": [],
   "source": [
    "corpus2 = np.array([word.lower() for word in corpus if word.isalpha() and (len(word)>5) and len(word)<13])\n"
   ]
  },
  {
   "cell_type": "code",
   "execution_count": 9,
   "metadata": {
    "id": "hI8io5yf7tMS"
   },
   "outputs": [],
   "source": [
    "word_len = np.array([len(word) for word in corpus2])"
   ]
  },
  {
   "cell_type": "code",
   "execution_count": 10,
   "metadata": {
    "id": "NhAPz_ku-yoX"
   },
   "outputs": [],
   "source": [
    "class HangmanPlayer:\n",
    "    def __init__(self, word, model, lives=10):\n",
    "        self.original_word = word\n",
    "        self.full_word = [ord(i)-97 for i in word]\n",
    "        self.letters_guessed = set([])\n",
    "        self.letters_remaining = set(self.full_word)\n",
    "        self.lives_left = lives\n",
    "        self.obscured_words_seen = []\n",
    "        self.letters_previously_guessed = []\n",
    "        self.guesses = []\n",
    "        self.correct_responses = []\n",
    "        self.z = model\n",
    "        return\n",
    "    \n",
    "    def encode_obscured_word(self):\n",
    "        word = np.array([i if i in self.letters_guessed else 26 for i in self.full_word])\n",
    "        obscured_word = np.zeros((len(word), 27), dtype=np.float32)\n",
    "        for i, j in enumerate(word):\n",
    "            obscured_word[i, j] = 1\n",
    "        return(obscured_word)\n",
    "    \n",
    "    def encode_guess(self, guess):\n",
    "        encoded_guess = np.zeros(26, dtype=np.float32)\n",
    "        encoded_guess[guess] = 1\n",
    "        return(encoded_guess)\n",
    "\n",
    "    def encode_previous_guesses(self):\n",
    "        # Create a 1 x 26 vector where 1s indicate that the letter was previously guessed\n",
    "        guess = np.zeros(26, dtype=np.float32)\n",
    "        for i in self.letters_guessed:\n",
    "            guess[i] = 1\n",
    "        return(guess)\n",
    "    \n",
    "    def encode_correct_responses(self):\n",
    "        # To be used with cross_entropy_with_softmax, this vector must be normalized\n",
    "        response = np.zeros(26, dtype=np.float32)\n",
    "        for i in self.letters_remaining:\n",
    "            response[i] = 1.0\n",
    "        # response /= response.sum()\n",
    "        return(response)\n",
    "    \n",
    "    def store_guess_and_result(self, guess):\n",
    "        # Record what the model saw as input: an obscured word and a list of previously-guessed letters\n",
    "        self.obscured_words_seen.append(self.encode_obscured_word())\n",
    "        self.letters_previously_guessed.append(self.encode_previous_guesses())\n",
    "        \n",
    "        # Record the letter that the model guessed, and add that guess to the list of previous guesses\n",
    "        self.guesses.append(guess)\n",
    "        self.letters_guessed.add(guess)\n",
    "        \n",
    "        # Store the \"correct responses\"\n",
    "        correct_responses = self.encode_correct_responses()\n",
    "        self.correct_responses.append(correct_responses)\n",
    "        \n",
    "        # Determine an appropriate reward, and reduce # of lives left if appropriate\n",
    "        if guess in self.letters_remaining:\n",
    "            self.letters_remaining.remove(guess)\n",
    "        \n",
    "        if self.correct_responses[-1][guess] < 0.00001:\n",
    "            self.lives_left -= 1\n",
    "        return\n",
    "                \n",
    "    def run(self):\n",
    "        # Play a game until we run out of lives or letters\n",
    "        while (self.lives_left > 0) and (len(self.letters_remaining) > 0):\n",
    "            guess = np.argmax(np.squeeze(self.z.predict([np.array(self.encode_obscured_word()).reshape((1,self.encode_obscured_word().shape[0],27)),\n",
    "                                                         np.array(self.encode_previous_guesses()).reshape((1,26))]))-np.squeeze(np.array(self.encode_previous_guesses())))\n",
    "\n",
    "            self.store_guess_and_result(guess)\n",
    "        \n",
    "        # Return the observations for use in training (both inputs, predictions, and losses)\n",
    "        return(np.array(self.obscured_words_seen),\n",
    "               np.array(self.letters_previously_guessed),\n",
    "               np.array(self.correct_responses))\n",
    "    \n",
    "    def show_words_seen(self):\n",
    "        for word in self.obscured_words_seen:\n",
    "            print(''.join([chr(i + 97) if i != 26 else ' ' for i in word.argmax(axis=1)]))\n",
    "            \n",
    "    def show_guesses(self):\n",
    "        for guess in self.guesses:\n",
    "            print(chr(guess + 97))\n",
    "\n",
    "            \n",
    "    def play_by_play(self):\n",
    "        print('Hidden word was \"{}\"'.format(self.original_word))\n",
    "        for i in range(len(self.guesses)):\n",
    "            word_seen = ''.join([chr(i + 97) if i != 26 else ' ' for i in self.obscured_words_seen[i].argmax(axis=1)])\n",
    "            print('Guessed {} after seeing \"{}\"'.format(chr(self.guesses[i] + 97),\n",
    "                                                        word_seen))\n",
    "            \n",
    "    def evaluate_performance(self):\n",
    "        # Assumes that the run() method has already been called\n",
    "        ended_in_success = self.lives_left > 0\n",
    "        letters_in_word = set([i for i in self.original_word])\n",
    "        correct_guesses = len(letters_in_word) - len(self.letters_remaining)\n",
    "        incorrect_guesses = len(self.guesses) - correct_guesses\n",
    "        return(ended_in_success, correct_guesses, incorrect_guesses, letters_in_word)"
   ]
  },
  {
   "cell_type": "code",
   "execution_count": 15,
   "metadata": {
    "id": "0yxRQx0m0pKR"
   },
   "outputs": [
    {
     "name": "stdout",
     "output_type": "stream",
     "text": [
      "WARNING:tensorflow:From /Users/michaelspillane/anaconda3/lib/python3.7/site-packages/tensorflow/python/keras/utils/losses_utils.py:170: to_float (from tensorflow.python.ops.math_ops) is deprecated and will be removed in a future version.\n",
      "Instructions for updating:\n",
      "Use tf.cast instead.\n"
     ]
    }
   ],
   "source": [
    "N = 128\n",
    "word_input = keras.Input(shape=(None,27))\n",
    "\n",
    "letter_input = keras.Input(shape=(26,))\n",
    "\n",
    "a1 = keras.layers.Conv1D(N, kernel_size=(5),strides=(1),padding='same',activation = 'relu',kernel_initializer='he_normal')(word_input)\n",
    "a2 = keras.layers.Conv1D(N, kernel_size=(4),strides=(1),padding='same',activation = 'relu',kernel_initializer='he_normal')(word_input)\n",
    "a3 = keras.layers.Conv1D(N, kernel_size=(3),strides=(1),padding='same',activation = 'relu',kernel_initializer='he_normal')(word_input)\n",
    "a4 = keras.layers.Conv1D(N, kernel_size=(2),strides=(1),padding='same',activation = 'relu',kernel_initializer='he_normal')(word_input)\n",
    "\n",
    "d0 = keras.layers.Add()([a1,a2,a3,a4])\n",
    "\n",
    "\n",
    "\n",
    "d1 = keras.layers.Conv1D(N, kernel_size=(3),strides=(1),padding='same',activation = 'relu',kernel_initializer='he_normal')(d0)\n",
    "d1 = keras.layers.BatchNormalization()(d1)\n",
    "d1 = keras.layers.Conv1D(N, kernel_size=(3),strides=(1),padding='same',activation = 'relu',kernel_initializer='he_normal')(d1)\n",
    "d1 = keras.layers.BatchNormalization()(d1)\n",
    "\n",
    "\n",
    "d0 = keras.layers.Add()([d0,d1])\n",
    "\n",
    "d0 = keras.layers.GlobalMaxPooling1D()(d0)\n",
    "d0 = keras.layers.Dropout(.4)(d0)\n",
    "d1 = keras.layers.Concatenate()([d0,letter_input])\n",
    "\n",
    "\n",
    "word_output = keras.layers.Dense(26,activation = 'sigmoid')(d1)\n",
    "\n",
    "z = keras.Model(inputs = [word_input,letter_input], outputs = word_output)\n",
    "\n",
    "bce = keras.losses.BinaryCrossentropy()\n",
    "\n",
    "z.compile(loss=bce,optimizer=keras.optimizers.Adam())"
   ]
  },
  {
   "cell_type": "code",
   "execution_count": 33,
   "metadata": {
    "id": "b2KHEWtG4HHw"
   },
   "outputs": [
    {
     "name": "stdout",
     "output_type": "stream",
     "text": [
      "0\n",
      "Epoch 1/2\n",
      "281/281 [==============================] - 0s 760us/sample - loss: 0.5440\n",
      "Epoch 2/2\n",
      "281/281 [==============================] - 0s 1ms/sample - loss: 0.4032\n",
      "1\n",
      "Epoch 1/2\n",
      "280/280 [==============================] - 0s 754us/sample - loss: 0.4558\n",
      "Epoch 2/2\n",
      "280/280 [==============================] - 0s 762us/sample - loss: 0.3584\n",
      "2\n",
      "Epoch 1/2\n",
      "281/281 [==============================] - 0s 740us/sample - loss: 0.4517\n",
      "Epoch 2/2\n",
      "281/281 [==============================] - 0s 765us/sample - loss: 0.3626\n",
      "0\n",
      "Epoch 1/2\n",
      "290/290 [==============================] - 0s 1ms/sample - loss: 0.4751\n",
      "Epoch 2/2\n",
      "290/290 [==============================] - 0s 1ms/sample - loss: 0.3849\n",
      "1\n",
      "Epoch 1/2\n",
      "295/295 [==============================] - 0s 820us/sample - loss: 0.4882\n",
      "Epoch 2/2\n",
      "295/295 [==============================] - 0s 825us/sample - loss: 0.3931\n",
      "2\n",
      "Epoch 1/2\n",
      "296/296 [==============================] - 0s 813us/sample - loss: 0.4416\n",
      "Epoch 2/2\n",
      "296/296 [==============================] - 0s 802us/sample - loss: 0.3625\n",
      "0\n",
      "Epoch 1/2\n",
      "300/300 [==============================] - 0s 912us/sample - loss: 0.4841\n",
      "Epoch 2/2\n",
      "300/300 [==============================] - 0s 841us/sample - loss: 0.3663\n",
      "1\n",
      "Epoch 1/2\n",
      "318/318 [==============================] - 0s 1ms/sample - loss: 0.4796\n",
      "Epoch 2/2\n",
      "318/318 [==============================] - 0s 796us/sample - loss: 0.3734\n",
      "2\n",
      "Epoch 1/2\n",
      "313/313 [==============================] - 0s 808us/sample - loss: 0.4780\n",
      "Epoch 2/2\n",
      "313/313 [==============================] - 0s 860us/sample - loss: 0.3658\n",
      "0\n",
      "Epoch 1/2\n",
      "313/313 [==============================] - 0s 857us/sample - loss: 0.5968\n",
      "Epoch 2/2\n",
      "313/313 [==============================] - 0s 848us/sample - loss: 0.4250\n",
      "1\n",
      "Epoch 1/2\n",
      "309/309 [==============================] - 0s 842us/sample - loss: 0.4566\n",
      "Epoch 2/2\n",
      "309/309 [==============================] - 0s 874us/sample - loss: 0.3637\n",
      "2\n",
      "Epoch 1/2\n",
      "319/319 [==============================] - 0s 1ms/sample - loss: 0.4944\n",
      "Epoch 2/2\n",
      "319/319 [==============================] - 0s 834us/sample - loss: 0.3970\n",
      "0\n",
      "Epoch 1/2\n",
      "345/345 [==============================] - 0s 1ms/sample - loss: 0.4500\n",
      "Epoch 2/2\n",
      "345/345 [==============================] - 0s 911us/sample - loss: 0.3746\n",
      "1\n",
      "Epoch 1/2\n",
      "327/327 [==============================] - 0s 937us/sample - loss: 0.4740\n",
      "Epoch 2/2\n",
      "327/327 [==============================] - 0s 1ms/sample - loss: 0.3719\n",
      "2\n",
      "Epoch 1/2\n",
      "332/332 [==============================] - 0s 901us/sample - loss: 0.4815\n",
      "Epoch 2/2\n",
      "332/332 [==============================] - 0s 1ms/sample - loss: 0.3992\n",
      "0\n",
      "Epoch 1/2\n",
      "340/340 [==============================] - 0s 1ms/sample - loss: 0.4507\n",
      "Epoch 2/2\n",
      "340/340 [==============================] - 1s 2ms/sample - loss: 0.3768\n",
      "1\n",
      "Epoch 1/2\n",
      "350/350 [==============================] - 1s 2ms/sample - loss: 0.4730\n",
      "Epoch 2/2\n",
      "350/350 [==============================] - 1s 2ms/sample - loss: 0.3897\n",
      "2\n",
      "Epoch 1/2\n",
      "348/348 [==============================] - 1s 2ms/sample - loss: 0.4886\n",
      "Epoch 2/2\n",
      "348/348 [==============================] - 0s 1ms/sample - loss: 0.4034\n",
      "0\n",
      "Epoch 1/2\n",
      "359/359 [==============================] - 0s 996us/sample - loss: 0.4477\n",
      "Epoch 2/2\n",
      "359/359 [==============================] - 0s 1ms/sample - loss: 0.3550\n",
      "1\n",
      "Epoch 1/2\n",
      "371/371 [==============================] - 1s 2ms/sample - loss: 0.4964\n",
      "Epoch 2/2\n",
      "371/371 [==============================] - 1s 2ms/sample - loss: 0.3906\n",
      "2\n",
      "Epoch 1/2\n",
      "357/357 [==============================] - 1s 2ms/sample - loss: 0.4774\n",
      "Epoch 2/2\n",
      "357/357 [==============================] - 1s 2ms/sample - loss: 0.3741\n"
     ]
    }
   ],
   "source": [
    "NUM_EPOCHS = 3\n",
    "EPOCH_SIZE = 20\n",
    "\n",
    "for pp in np.arange(6,13):\n",
    "  for epoch in range(NUM_EPOCHS):\n",
    "      print(epoch)\n",
    "      if epoch ==0:\n",
    "        \n",
    "        n=pp\n",
    "      else:\n",
    "        pass\n",
    "      words = corpus2[word_len == n]\n",
    "      i = np.random.randint(low=0,high = len(words)-1)\n",
    "\n",
    "      word = words[i]\n",
    "\n",
    "      other_player = HangmanPlayer(word, z)\n",
    "      words_seen, previous_letters, correct_responses = other_player.run()\n",
    "\n",
    "\n",
    "      for _ in range(EPOCH_SIZE):\n",
    "          i = (i+1)% len(words)\n",
    "          word = words[i]\n",
    "          \n",
    "          other_player = HangmanPlayer(word, z)\n",
    "          words_seen0, previous_letters0, correct_responses0 = other_player.run()\n",
    "\n",
    "          words_seen = np.append(words_seen, words_seen0, axis=0)\n",
    "          previous_letters = np.append(previous_letters, previous_letters0, axis=0)\n",
    "          correct_responses = np.append(correct_responses, correct_responses0, axis=0)\n",
    "\n",
    "      _,b = np.unique(words_seen, axis=0,return_index=True)\n",
    "\n",
    "    \n",
    "      z.fit([words_seen,previous_letters],correct_responses,batch_size = 32,epochs = 2)\n",
    "          \n"
   ]
  },
  {
   "cell_type": "code",
   "execution_count": 34,
   "metadata": {
    "colab": {
     "base_uri": "https://localhost:8080/",
     "height": 187
    },
    "id": "p76XpnEb4ZC3",
    "outputId": "70c9959f-94a3-4e72-b24a-241520f717f2"
   },
   "outputs": [
    {
     "name": "stdout",
     "output_type": "stream",
     "text": [
      "Hidden word was \"responses\"\n",
      "Guessed n after seeing \"         \"\n",
      "Guessed e after seeing \"     n   \"\n",
      "Guessed r after seeing \" e   n e \"\n",
      "Guessed l after seeing \"re   n e \"\n",
      "Guessed o after seeing \"re   n e \"\n",
      "Guessed t after seeing \"re  on e \"\n",
      "Guessed s after seeing \"re  on e \"\n",
      "Guessed b after seeing \"res onses\"\n",
      "Guessed u after seeing \"res onses\"\n",
      "Guessed g after seeing \"res onses\"\n",
      "Guessed y after seeing \"res onses\"\n",
      "Guessed m after seeing \"res onses\"\n",
      "Guessed p after seeing \"res onses\"\n",
      "The model won this game\n",
      "The model made 6 correct guesses and 7 incorrect guesses\n"
     ]
    }
   ],
   "source": [
    "my_player = HangmanPlayer('responses', z)\n",
    "a,b,c = my_player.run()\n",
    "my_player.play_by_play()\n",
    "results = my_player.evaluate_performance()\n",
    "print('The model {} this game'.format('won' if results[0] else 'did not win'))\n",
    "print('The model made {} correct guesses and {} incorrect guesses'.format(results[1], results[2]))"
   ]
  },
  {
   "cell_type": "code",
   "execution_count": 42,
   "metadata": {
    "id": "_pF5r8MkOtpy"
   },
   "outputs": [
    {
     "name": "stdout",
     "output_type": "stream",
     "text": [
      "The model won 16.0% of the games\n"
     ]
    }
   ],
   "source": [
    "def evaluate_model(my_words, my_model):\n",
    "    results = []\n",
    "    for word in my_words:\n",
    "        my_player = HangmanPlayer(word, my_model)\n",
    "        _ = my_player.run()\n",
    "        results.append(my_player.evaluate_performance())\n",
    "    df = pd.DataFrame(results, columns=['won', 'num_correct', 'num_incorrect', 'letters'])\n",
    "    return(df)\n",
    "\n",
    "result_df = evaluate_model(corpus2[:50], z)\n",
    "# print('The model {} this game'.format('won' if results[0] else 'did not win'))\n",
    "print('The model won {}% of the games'.format((100*result_df['won'].mean()).round()))"
   ]
  },
  {
   "cell_type": "code",
   "execution_count": 43,
   "metadata": {},
   "outputs": [
    {
     "ename": "ValueError",
     "evalue": "('Unrecognized keyword arguments:', dict_keys(['ragged']))",
     "output_type": "error",
     "traceback": [
      "\u001b[0;31m---------------------------------------------------------------------------\u001b[0m",
      "\u001b[0;31mValueError\u001b[0m                                Traceback (most recent call last)",
      "\u001b[0;32m<ipython-input-43-fe75bcdc71d6>\u001b[0m in \u001b[0;36m<module>\u001b[0;34m\u001b[0m\n\u001b[0;32m----> 1\u001b[0;31m \u001b[0mz0\u001b[0m \u001b[0;34m=\u001b[0m \u001b[0mkeras\u001b[0m\u001b[0;34m.\u001b[0m\u001b[0mmodels\u001b[0m\u001b[0;34m.\u001b[0m\u001b[0mload_model\u001b[0m\u001b[0;34m(\u001b[0m\u001b[0;34m'/Users/michaelspillane/Downloads/z.h5'\u001b[0m\u001b[0;34m)\u001b[0m\u001b[0;34m\u001b[0m\u001b[0;34m\u001b[0m\u001b[0m\n\u001b[0m",
      "\u001b[0;32m~/anaconda3/lib/python3.7/site-packages/tensorflow/python/keras/engine/saving.py\u001b[0m in \u001b[0;36mload_model\u001b[0;34m(filepath, custom_objects, compile)\u001b[0m\n\u001b[1;32m    232\u001b[0m       \u001b[0;32mraise\u001b[0m \u001b[0mValueError\u001b[0m\u001b[0;34m(\u001b[0m\u001b[0;34m'No model found in config file.'\u001b[0m\u001b[0;34m)\u001b[0m\u001b[0;34m\u001b[0m\u001b[0;34m\u001b[0m\u001b[0m\n\u001b[1;32m    233\u001b[0m     \u001b[0mmodel_config\u001b[0m \u001b[0;34m=\u001b[0m \u001b[0mjson\u001b[0m\u001b[0;34m.\u001b[0m\u001b[0mloads\u001b[0m\u001b[0;34m(\u001b[0m\u001b[0mmodel_config\u001b[0m\u001b[0;34m.\u001b[0m\u001b[0mdecode\u001b[0m\u001b[0;34m(\u001b[0m\u001b[0;34m'utf-8'\u001b[0m\u001b[0;34m)\u001b[0m\u001b[0;34m)\u001b[0m\u001b[0;34m\u001b[0m\u001b[0;34m\u001b[0m\u001b[0m\n\u001b[0;32m--> 234\u001b[0;31m     \u001b[0mmodel\u001b[0m \u001b[0;34m=\u001b[0m \u001b[0mmodel_from_config\u001b[0m\u001b[0;34m(\u001b[0m\u001b[0mmodel_config\u001b[0m\u001b[0;34m,\u001b[0m \u001b[0mcustom_objects\u001b[0m\u001b[0;34m=\u001b[0m\u001b[0mcustom_objects\u001b[0m\u001b[0;34m)\u001b[0m\u001b[0;34m\u001b[0m\u001b[0;34m\u001b[0m\u001b[0m\n\u001b[0m\u001b[1;32m    235\u001b[0m \u001b[0;34m\u001b[0m\u001b[0m\n\u001b[1;32m    236\u001b[0m     \u001b[0;31m# set weights\u001b[0m\u001b[0;34m\u001b[0m\u001b[0;34m\u001b[0m\u001b[0;34m\u001b[0m\u001b[0m\n",
      "\u001b[0;32m~/anaconda3/lib/python3.7/site-packages/tensorflow/python/keras/engine/saving.py\u001b[0m in \u001b[0;36mmodel_from_config\u001b[0;34m(config, custom_objects)\u001b[0m\n\u001b[1;32m    322\u001b[0m                     '`Sequential.from_config(config)`?')\n\u001b[1;32m    323\u001b[0m   \u001b[0;32mfrom\u001b[0m \u001b[0mtensorflow\u001b[0m\u001b[0;34m.\u001b[0m\u001b[0mpython\u001b[0m\u001b[0;34m.\u001b[0m\u001b[0mkeras\u001b[0m\u001b[0;34m.\u001b[0m\u001b[0mlayers\u001b[0m \u001b[0;32mimport\u001b[0m \u001b[0mdeserialize\u001b[0m  \u001b[0;31m# pylint: disable=g-import-not-at-top\u001b[0m\u001b[0;34m\u001b[0m\u001b[0;34m\u001b[0m\u001b[0m\n\u001b[0;32m--> 324\u001b[0;31m   \u001b[0;32mreturn\u001b[0m \u001b[0mdeserialize\u001b[0m\u001b[0;34m(\u001b[0m\u001b[0mconfig\u001b[0m\u001b[0;34m,\u001b[0m \u001b[0mcustom_objects\u001b[0m\u001b[0;34m=\u001b[0m\u001b[0mcustom_objects\u001b[0m\u001b[0;34m)\u001b[0m\u001b[0;34m\u001b[0m\u001b[0;34m\u001b[0m\u001b[0m\n\u001b[0m\u001b[1;32m    325\u001b[0m \u001b[0;34m\u001b[0m\u001b[0m\n\u001b[1;32m    326\u001b[0m \u001b[0;34m\u001b[0m\u001b[0m\n",
      "\u001b[0;32m~/anaconda3/lib/python3.7/site-packages/tensorflow/python/keras/layers/serialization.py\u001b[0m in \u001b[0;36mdeserialize\u001b[0;34m(config, custom_objects)\u001b[0m\n\u001b[1;32m     72\u001b[0m       \u001b[0mmodule_objects\u001b[0m\u001b[0;34m=\u001b[0m\u001b[0mglobs\u001b[0m\u001b[0;34m,\u001b[0m\u001b[0;34m\u001b[0m\u001b[0;34m\u001b[0m\u001b[0m\n\u001b[1;32m     73\u001b[0m       \u001b[0mcustom_objects\u001b[0m\u001b[0;34m=\u001b[0m\u001b[0mcustom_objects\u001b[0m\u001b[0;34m,\u001b[0m\u001b[0;34m\u001b[0m\u001b[0;34m\u001b[0m\u001b[0m\n\u001b[0;32m---> 74\u001b[0;31m       printable_module_name='layer')\n\u001b[0m",
      "\u001b[0;32m~/anaconda3/lib/python3.7/site-packages/tensorflow/python/keras/utils/generic_utils.py\u001b[0m in \u001b[0;36mdeserialize_keras_object\u001b[0;34m(identifier, module_objects, custom_objects, printable_module_name)\u001b[0m\n\u001b[1;32m    190\u001b[0m             custom_objects=dict(\n\u001b[1;32m    191\u001b[0m                 \u001b[0mlist\u001b[0m\u001b[0;34m(\u001b[0m\u001b[0m_GLOBAL_CUSTOM_OBJECTS\u001b[0m\u001b[0;34m.\u001b[0m\u001b[0mitems\u001b[0m\u001b[0;34m(\u001b[0m\u001b[0;34m)\u001b[0m\u001b[0;34m)\u001b[0m \u001b[0;34m+\u001b[0m\u001b[0;34m\u001b[0m\u001b[0;34m\u001b[0m\u001b[0m\n\u001b[0;32m--> 192\u001b[0;31m                 list(custom_objects.items())))\n\u001b[0m\u001b[1;32m    193\u001b[0m       \u001b[0;32mwith\u001b[0m \u001b[0mCustomObjectScope\u001b[0m\u001b[0;34m(\u001b[0m\u001b[0mcustom_objects\u001b[0m\u001b[0;34m)\u001b[0m\u001b[0;34m:\u001b[0m\u001b[0;34m\u001b[0m\u001b[0;34m\u001b[0m\u001b[0m\n\u001b[1;32m    194\u001b[0m         \u001b[0;32mreturn\u001b[0m \u001b[0mcls\u001b[0m\u001b[0;34m.\u001b[0m\u001b[0mfrom_config\u001b[0m\u001b[0;34m(\u001b[0m\u001b[0mcls_config\u001b[0m\u001b[0;34m)\u001b[0m\u001b[0;34m\u001b[0m\u001b[0;34m\u001b[0m\u001b[0m\n",
      "\u001b[0;32m~/anaconda3/lib/python3.7/site-packages/tensorflow/python/keras/engine/network.py\u001b[0m in \u001b[0;36mfrom_config\u001b[0;34m(cls, config, custom_objects)\u001b[0m\n\u001b[1;32m   1261\u001b[0m     \u001b[0;31m# First, we create all layers and enqueue nodes to be processed\u001b[0m\u001b[0;34m\u001b[0m\u001b[0;34m\u001b[0m\u001b[0;34m\u001b[0m\u001b[0m\n\u001b[1;32m   1262\u001b[0m     \u001b[0;32mfor\u001b[0m \u001b[0mlayer_data\u001b[0m \u001b[0;32min\u001b[0m \u001b[0mconfig\u001b[0m\u001b[0;34m[\u001b[0m\u001b[0;34m'layers'\u001b[0m\u001b[0;34m]\u001b[0m\u001b[0;34m:\u001b[0m\u001b[0;34m\u001b[0m\u001b[0;34m\u001b[0m\u001b[0m\n\u001b[0;32m-> 1263\u001b[0;31m       \u001b[0mprocess_layer\u001b[0m\u001b[0;34m(\u001b[0m\u001b[0mlayer_data\u001b[0m\u001b[0;34m)\u001b[0m\u001b[0;34m\u001b[0m\u001b[0;34m\u001b[0m\u001b[0m\n\u001b[0m\u001b[1;32m   1264\u001b[0m     \u001b[0;31m# Then we process nodes in order of layer depth.\u001b[0m\u001b[0;34m\u001b[0m\u001b[0;34m\u001b[0m\u001b[0;34m\u001b[0m\u001b[0m\n\u001b[1;32m   1265\u001b[0m     \u001b[0;31m# Nodes that cannot yet be processed (if the inbound node\u001b[0m\u001b[0;34m\u001b[0m\u001b[0;34m\u001b[0m\u001b[0;34m\u001b[0m\u001b[0m\n",
      "\u001b[0;32m~/anaconda3/lib/python3.7/site-packages/tensorflow/python/keras/engine/network.py\u001b[0m in \u001b[0;36mprocess_layer\u001b[0;34m(layer_data)\u001b[0m\n\u001b[1;32m   1247\u001b[0m       \u001b[0;32mfrom\u001b[0m \u001b[0mtensorflow\u001b[0m\u001b[0;34m.\u001b[0m\u001b[0mpython\u001b[0m\u001b[0;34m.\u001b[0m\u001b[0mkeras\u001b[0m\u001b[0;34m.\u001b[0m\u001b[0mlayers\u001b[0m \u001b[0;32mimport\u001b[0m \u001b[0mdeserialize\u001b[0m \u001b[0;32mas\u001b[0m \u001b[0mdeserialize_layer\u001b[0m  \u001b[0;31m# pylint: disable=g-import-not-at-top\u001b[0m\u001b[0;34m\u001b[0m\u001b[0;34m\u001b[0m\u001b[0m\n\u001b[1;32m   1248\u001b[0m \u001b[0;34m\u001b[0m\u001b[0m\n\u001b[0;32m-> 1249\u001b[0;31m       \u001b[0mlayer\u001b[0m \u001b[0;34m=\u001b[0m \u001b[0mdeserialize_layer\u001b[0m\u001b[0;34m(\u001b[0m\u001b[0mlayer_data\u001b[0m\u001b[0;34m,\u001b[0m \u001b[0mcustom_objects\u001b[0m\u001b[0;34m=\u001b[0m\u001b[0mcustom_objects\u001b[0m\u001b[0;34m)\u001b[0m\u001b[0;34m\u001b[0m\u001b[0;34m\u001b[0m\u001b[0m\n\u001b[0m\u001b[1;32m   1250\u001b[0m       \u001b[0mcreated_layers\u001b[0m\u001b[0;34m[\u001b[0m\u001b[0mlayer_name\u001b[0m\u001b[0;34m]\u001b[0m \u001b[0;34m=\u001b[0m \u001b[0mlayer\u001b[0m\u001b[0;34m\u001b[0m\u001b[0;34m\u001b[0m\u001b[0m\n\u001b[1;32m   1251\u001b[0m \u001b[0;34m\u001b[0m\u001b[0m\n",
      "\u001b[0;32m~/anaconda3/lib/python3.7/site-packages/tensorflow/python/keras/layers/serialization.py\u001b[0m in \u001b[0;36mdeserialize\u001b[0;34m(config, custom_objects)\u001b[0m\n\u001b[1;32m     72\u001b[0m       \u001b[0mmodule_objects\u001b[0m\u001b[0;34m=\u001b[0m\u001b[0mglobs\u001b[0m\u001b[0;34m,\u001b[0m\u001b[0;34m\u001b[0m\u001b[0;34m\u001b[0m\u001b[0m\n\u001b[1;32m     73\u001b[0m       \u001b[0mcustom_objects\u001b[0m\u001b[0;34m=\u001b[0m\u001b[0mcustom_objects\u001b[0m\u001b[0;34m,\u001b[0m\u001b[0;34m\u001b[0m\u001b[0;34m\u001b[0m\u001b[0m\n\u001b[0;32m---> 74\u001b[0;31m       printable_module_name='layer')\n\u001b[0m",
      "\u001b[0;32m~/anaconda3/lib/python3.7/site-packages/tensorflow/python/keras/utils/generic_utils.py\u001b[0m in \u001b[0;36mdeserialize_keras_object\u001b[0;34m(identifier, module_objects, custom_objects, printable_module_name)\u001b[0m\n\u001b[1;32m    192\u001b[0m                 list(custom_objects.items())))\n\u001b[1;32m    193\u001b[0m       \u001b[0;32mwith\u001b[0m \u001b[0mCustomObjectScope\u001b[0m\u001b[0;34m(\u001b[0m\u001b[0mcustom_objects\u001b[0m\u001b[0;34m)\u001b[0m\u001b[0;34m:\u001b[0m\u001b[0;34m\u001b[0m\u001b[0;34m\u001b[0m\u001b[0m\n\u001b[0;32m--> 194\u001b[0;31m         \u001b[0;32mreturn\u001b[0m \u001b[0mcls\u001b[0m\u001b[0;34m.\u001b[0m\u001b[0mfrom_config\u001b[0m\u001b[0;34m(\u001b[0m\u001b[0mcls_config\u001b[0m\u001b[0;34m)\u001b[0m\u001b[0;34m\u001b[0m\u001b[0;34m\u001b[0m\u001b[0m\n\u001b[0m\u001b[1;32m    195\u001b[0m     \u001b[0;32melse\u001b[0m\u001b[0;34m:\u001b[0m\u001b[0;34m\u001b[0m\u001b[0;34m\u001b[0m\u001b[0m\n\u001b[1;32m    196\u001b[0m       \u001b[0;31m# Then `cls` may be a function returning a class.\u001b[0m\u001b[0;34m\u001b[0m\u001b[0;34m\u001b[0m\u001b[0;34m\u001b[0m\u001b[0m\n",
      "\u001b[0;32m~/anaconda3/lib/python3.7/site-packages/tensorflow/python/keras/engine/base_layer.py\u001b[0m in \u001b[0;36mfrom_config\u001b[0;34m(cls, config)\u001b[0m\n\u001b[1;32m    400\u001b[0m         \u001b[0mA\u001b[0m \u001b[0mlayer\u001b[0m \u001b[0minstance\u001b[0m\u001b[0;34m.\u001b[0m\u001b[0;34m\u001b[0m\u001b[0;34m\u001b[0m\u001b[0m\n\u001b[1;32m    401\u001b[0m     \"\"\"\n\u001b[0;32m--> 402\u001b[0;31m     \u001b[0;32mreturn\u001b[0m \u001b[0mcls\u001b[0m\u001b[0;34m(\u001b[0m\u001b[0;34m**\u001b[0m\u001b[0mconfig\u001b[0m\u001b[0;34m)\u001b[0m\u001b[0;34m\u001b[0m\u001b[0;34m\u001b[0m\u001b[0m\n\u001b[0m\u001b[1;32m    403\u001b[0m \u001b[0;34m\u001b[0m\u001b[0m\n\u001b[1;32m    404\u001b[0m   \u001b[0;32mdef\u001b[0m \u001b[0mcompute_output_shape\u001b[0m\u001b[0;34m(\u001b[0m\u001b[0mself\u001b[0m\u001b[0;34m,\u001b[0m \u001b[0minput_shape\u001b[0m\u001b[0;34m)\u001b[0m\u001b[0;34m:\u001b[0m\u001b[0;34m\u001b[0m\u001b[0;34m\u001b[0m\u001b[0m\n",
      "\u001b[0;32m~/anaconda3/lib/python3.7/site-packages/tensorflow/python/keras/engine/input_layer.py\u001b[0m in \u001b[0;36m__init__\u001b[0;34m(self, input_shape, batch_size, dtype, input_tensor, sparse, name, **kwargs)\u001b[0m\n\u001b[1;32m     67\u001b[0m       \u001b[0minput_shape\u001b[0m \u001b[0;34m=\u001b[0m \u001b[0mbatch_input_shape\u001b[0m\u001b[0;34m[\u001b[0m\u001b[0;36m1\u001b[0m\u001b[0;34m:\u001b[0m\u001b[0;34m]\u001b[0m\u001b[0;34m\u001b[0m\u001b[0;34m\u001b[0m\u001b[0m\n\u001b[1;32m     68\u001b[0m     \u001b[0;32mif\u001b[0m \u001b[0mkwargs\u001b[0m\u001b[0;34m:\u001b[0m\u001b[0;34m\u001b[0m\u001b[0;34m\u001b[0m\u001b[0m\n\u001b[0;32m---> 69\u001b[0;31m       \u001b[0;32mraise\u001b[0m \u001b[0mValueError\u001b[0m\u001b[0;34m(\u001b[0m\u001b[0;34m'Unrecognized keyword arguments:'\u001b[0m\u001b[0;34m,\u001b[0m \u001b[0mkwargs\u001b[0m\u001b[0;34m.\u001b[0m\u001b[0mkeys\u001b[0m\u001b[0;34m(\u001b[0m\u001b[0;34m)\u001b[0m\u001b[0;34m)\u001b[0m\u001b[0;34m\u001b[0m\u001b[0;34m\u001b[0m\u001b[0m\n\u001b[0m\u001b[1;32m     70\u001b[0m \u001b[0;34m\u001b[0m\u001b[0m\n\u001b[1;32m     71\u001b[0m     \u001b[0;32mif\u001b[0m \u001b[0;32mnot\u001b[0m \u001b[0mname\u001b[0m\u001b[0;34m:\u001b[0m\u001b[0;34m\u001b[0m\u001b[0;34m\u001b[0m\u001b[0m\n",
      "\u001b[0;31mValueError\u001b[0m: ('Unrecognized keyword arguments:', dict_keys(['ragged']))"
     ]
    }
   ],
   "source": [
    "z0 = keras.models.load_model('/Users/michaelspillane/Downloads/z.h5')"
   ]
  },
  {
   "cell_type": "code",
   "execution_count": null,
   "metadata": {},
   "outputs": [],
   "source": []
  }
 ],
 "metadata": {
  "colab": {
   "collapsed_sections": [],
   "name": "HangmanAI.ipynb",
   "provenance": []
  },
  "kernelspec": {
   "display_name": "Python 3",
   "language": "python",
   "name": "python3"
  },
  "language_info": {
   "codemirror_mode": {
    "name": "ipython",
    "version": 3
   },
   "file_extension": ".py",
   "mimetype": "text/x-python",
   "name": "python",
   "nbconvert_exporter": "python",
   "pygments_lexer": "ipython3",
   "version": "3.7.3"
  }
 },
 "nbformat": 4,
 "nbformat_minor": 1
}
